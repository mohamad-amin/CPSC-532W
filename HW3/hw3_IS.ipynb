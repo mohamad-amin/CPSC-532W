{
 "cells": [
  {
   "cell_type": "code",
   "execution_count": 1,
   "id": "noted-titanium",
   "metadata": {},
   "outputs": [],
   "source": [
    "from evaluation_based_sampling import *\n",
    "import time\n",
    "\n",
    "asts = [load_ast_env(i) for i in range(1, 5)]"
   ]
  },
  {
   "cell_type": "code",
   "execution_count": 32,
   "id": "minute-overview",
   "metadata": {},
   "outputs": [],
   "source": [
    "import numpy as np\n",
    "import seaborn as sns\n",
    "from matplotlib import pyplot as plt\n",
    "from evaluation_based_sampling import *\n",
    "\n",
    "%matplotlib inline\n",
    "\n",
    "def plot_hist(vals, weights, figsize=(10, 5)):\n",
    "    plt.figure(figsize=figsize)\n",
    "    plt.hist(vals, bins=50, weights=weights)\n",
    "    plt.show()\n",
    "    \n",
    "def plot_2_hists(vals, weights):\n",
    "    plt.subplot(1, 2, 1)\n",
    "    plt.hist(vals[:, 0], bins=50, weights=weights)\n",
    "    plt.subplot(1, 2, 2)\n",
    "    plt.hist(vals[:, 1], bins=50, weights=weights)\n",
    "    plt.tight_layout()\n",
    "    plt.show()\n"
   ]
  },
  {
   "cell_type": "code",
   "execution_count": 29,
   "id": "pregnant-transformation",
   "metadata": {},
   "outputs": [
    {
     "name": "stdout",
     "output_type": "stream",
     "text": [
      "--- 1.535823106765747 seconds ---\n",
      "Number of samples: 10000\n",
      "Mean: 7.169663118839607\n",
      "Var: 0.8100971736623269\n"
     ]
    }
   ],
   "source": [
    "n_samples = int(1e4)\n",
    "start_time = time.time()\n",
    "data = likelihood_weighting(samples=n_samples, ast=asts[0])\n",
    "print(\"--- %s seconds ---\" % (time.time() - start_time))\n",
    "mean = compute_expectation_IS(data, lambda r: r)\n",
    "var = compute_expectation_IS(data, lambda r: np.array(r) ** 2 - mean ** 2)\n",
    "print('Number of samples:', n_samples)\n",
    "print('Mean:', mean)\n",
    "print('Var:', var)"
   ]
  },
  {
   "cell_type": "code",
   "execution_count": 30,
   "id": "overhead-connection",
   "metadata": {},
   "outputs": [
    {
     "data": {
      "image/png": "[encoded data removed]",
      "text/plain": [
       "<Figure size 720x360 with 1 Axes>"
      ]
     },
     "metadata": {
      "needs_background": "light"
     },
     "output_type": "display_data"
    }
   ],
   "source": [
    "plot_hist(np.array(data[0]), np.exp(data[1]))"
   ]
  },
  {
   "cell_type": "code",
   "execution_count": 31,
   "id": "abroad-infrastructure",
   "metadata": {},
   "outputs": [
    {
     "name": "stdout",
     "output_type": "stream",
     "text": [
      "--- 6.89832067489624 seconds ---\n",
      "Number of samples: 10000\n",
      "Mean: [2.135884894664658, -0.5252902432557714]\n",
      "Cov: [[ 0.05254188 -0.18625097]\n",
      " [-0.18625097  0.79977249]]\n"
     ]
    }
   ],
   "source": [
    "n_samples = int(1e4)\n",
    "start_time = time.time()\n",
    "start_time = time.time()\n",
    "data = likelihood_weighting(samples=n_samples, ast=asts[1])\n",
    "print(\"--- %s seconds ---\" % (time.time() - start_time))\n",
    "data = np.array(data[0]), np.array(data[1])\n",
    "m1 = compute_expectation_IS((data[0][:, 0], data[1]), lambda r: r)\n",
    "m2 = compute_expectation_IS((data[0][:, 1], data[1]), lambda r: r)\n",
    "v00 = compute_expectation_IS((data[0][:, 0], data[1]), lambda r: np.array(r) ** 2 - m1 ** 2)\n",
    "v11 = compute_expectation_IS((data[0][:, 1], data[1]), lambda r: np.array(r) ** 2 - m2 ** 2)\n",
    "v01 = compute_expectation_IS(((data[0][:, 0] - m1) * (data[0][:, 1] - m2), data[1]), lambda r: r)\n",
    "print('Number of samples:', n_samples)\n",
    "print('Mean:', [m1, m2])\n",
    "print('Cov:', np.array([[v00, v01], [v01, v11]]))"
   ]
  },
  {
   "cell_type": "code",
   "execution_count": 34,
   "id": "fiscal-renaissance",
   "metadata": {},
   "outputs": [
    {
     "data": {
      "image/png": "[encoded data removed]",
      "text/plain": [
       "<Figure size 432x288 with 2 Axes>"
      ]
     },
     "metadata": {
      "needs_background": "light"
     },
     "output_type": "display_data"
    }
   ],
   "source": [
    "plot_2_hists(data[0], np.exp(data[1]))"
   ]
  },
  {
   "cell_type": "code",
   "execution_count": 35,
   "id": "express-thomson",
   "metadata": {},
   "outputs": [
    {
     "name": "stdout",
     "output_type": "stream",
     "text": [
      "--- 9.020255088806152 seconds ---\n",
      "Number of samples: 10000\n",
      "Mean: 0.12650261928060144\n",
      "Var: 0.11049970659574865\n"
     ]
    }
   ],
   "source": [
    "n_samples = int(1e4)\n",
    "start_time = time.time()\n",
    "data = likelihood_weighting(samples=n_samples, ast=asts[2])\n",
    "print(\"--- %s seconds ---\" % (time.time() - start_time))\n",
    "mean = compute_expectation_IS(data, lambda r: r)\n",
    "var = compute_expectation_IS(data, lambda r: np.array(r) ** 2 - mean ** 2)\n",
    "print('Number of samples:', n_samples)\n",
    "print('Mean:', mean)\n",
    "print('Var:', var)"
   ]
  },
  {
   "cell_type": "code",
   "execution_count": 40,
   "id": "consecutive-kenya",
   "metadata": {},
   "outputs": [
    {
     "data": {
      "image/png": "[encoded data removed]",
      "text/plain": [
       "<Figure size 720x360 with 1 Axes>"
      ]
     },
     "metadata": {
      "needs_background": "light"
     },
     "output_type": "display_data"
    }
   ],
   "source": [
    "plot_hist(np.array(data[0]).astype(int), np.exp(data[1]))"
   ]
  },
  {
   "cell_type": "code",
   "execution_count": 41,
   "id": "spectacular-stupid",
   "metadata": {},
   "outputs": [
    {
     "name": "stdout",
     "output_type": "stream",
     "text": [
      "--- 2.445106267929077 seconds ---\n",
      "Number of samples: 10000\n",
      "Mean: 0.32097588525820486\n",
      "Var: 0.21795037407482126\n"
     ]
    }
   ],
   "source": [
    "n_samples = int(1e4)\n",
    "start_time = time.time()\n",
    "data = likelihood_weighting(samples=n_samples, ast=asts[3])\n",
    "print(\"--- %s seconds ---\" % (time.time() - start_time))\n",
    "mean = compute_expectation_IS(data, lambda r: r)\n",
    "var = compute_expectation_IS(data, lambda r: np.array(r) ** 2 - mean ** 2)\n",
    "print('Number of samples:', n_samples)\n",
    "print('Mean:', mean)\n",
    "print('Var:', var)"
   ]
  },
  {
   "cell_type": "code",
   "execution_count": 42,
   "id": "processed-civilian",
   "metadata": {},
   "outputs": [
    {
     "data": {
      "image/png": "[encoded data removed]",
      "text/plain": [
       "<Figure size 720x360 with 1 Axes>"
      ]
     },
     "metadata": {
      "needs_background": "light"
     },
     "output_type": "display_data"
    }
   ],
   "source": [
    "plot_hist(np.array(data[0]), np.exp(data[1]))"
   ]
  }
 ],
 "metadata": {
  "kernelspec": {
   "display_name": "Python 3",
   "language": "python",
   "name": "python3"
  },
  "language_info": {
   "codemirror_mode": {
    "name": "ipython",
    "version": 3
   },
   "file_extension": ".py",
   "mimetype": "text/x-python",
   "name": "python",
   "nbconvert_exporter": "python",
   "pygments_lexer": "ipython3",
   "version": "3.8.5"
  }
 },
 "nbformat": 4,
 "nbformat_minor": 5
}
